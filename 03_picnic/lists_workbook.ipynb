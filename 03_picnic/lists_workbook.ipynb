{
 "cells": [
  {
   "cell_type": "code",
   "execution_count": 1,
   "metadata": {},
   "outputs": [],
   "source": [
    "import argparse"
   ]
  },
  {
   "cell_type": "code",
   "execution_count": 2,
   "metadata": {},
   "outputs": [],
   "source": [
    "def get_args():\n",
    "    \"\"\"Get command-line arguments\"\"\"\n",
    "\n",
    "    parser = argparse.ArgumentParser(\n",
    "        description='Rock the Casbah',\n",
    "        formatter_class=argparse.ArgumentDefaultsHelpFormatter)\n",
    "\n",
    "    parser.add_argument('items',\n",
    "                        metavar='str',\n",
    "                        nargs='+',\n",
    "                        help='Items we are bringing')\n",
    "\n",
    "    parser.add_argument('-s',\n",
    "                        '--sorted',\n",
    "                        help='Whether to sort the items',\n",
    "                        action='store_true')\n",
    "\n",
    "    return parser.parse_args()"
   ]
  },
  {
   "cell_type": "code",
   "execution_count": 3,
   "metadata": {},
   "outputs": [],
   "source": [
    "def main():\n",
    "    \"\"\"Make a jazz noise here\"\"\"\n",
    "\n",
    "    args = get_args()\n",
    "    items = args.items\n",
    "    num_items = len(items)\n",
    "    # print(args.items)\n",
    "    # print(args.sorted)\n",
    "\n",
    "    if args.sorted:\n",
    "        items = sorted(items)\n",
    "\n",
    "    bringing = \"\"\n",
    "    if num_items == 1:\n",
    "        bringing = items[0]\n",
    "    elif num_items <= 2:\n",
    "        # bringing = f\"{items[0]} and {items[1]}\"\n",
    "        bringing = ' and '.join(items)\n",
    "    else:\n",
    "        # items[-1] = 'and ' + items[-1]\n",
    "        # bringing =  (', '.join(items))\n",
    "        bringing = ', '.join(items[:-1]) + ', and ' + items[-1]\n",
    "\n",
    "    print(f\"You are bringing {bringing}.\")"
   ]
  },
  {
   "cell_type": "code",
   "execution_count": 4,
   "metadata": {},
   "outputs": [
    {
     "data": {
      "text/plain": [
       "3"
      ]
     },
     "execution_count": 4,
     "metadata": {},
     "output_type": "execute_result"
    }
   ],
   "source": [
    "items = [\"sammiches\", \"chips\", \"ice cream\"]\n",
    "len(items)\n"
   ]
  },
  {
   "cell_type": "code",
   "execution_count": 5,
   "metadata": {},
   "outputs": [
    {
     "data": {
      "text/plain": [
       "['sammiches', 'chips', 'ice cream', ['soda', 'watermelon']]"
      ]
     },
     "execution_count": 5,
     "metadata": {},
     "output_type": "execute_result"
    }
   ],
   "source": [
    "# append() argument takes ONLY one argument. \n",
    "# so if we add a list of two it's added as a SINGLE element that's a nested list \n",
    "#  with two elements. that's not what we want...\n",
    "items.append([\"soda\", \"watermelon\"])\n",
    "items"
   ]
  },
  {
   "cell_type": "code",
   "execution_count": 6,
   "metadata": {},
   "outputs": [
    {
     "data": {
      "text/plain": [
       "['sammiches', 'chips', 'ice cream', 'soda', 'watermelon']"
      ]
     },
     "execution_count": 6,
     "metadata": {},
     "output_type": "execute_result"
    }
   ],
   "source": [
    "# using the extend() command to add more than one element to a list!\n",
    "items = [\"sammiches\", \"chips\", \"ice cream\"]\n",
    "items.extend([\"soda\", \"watermelon\"])\n",
    "items"
   ]
  },
  {
   "cell_type": "code",
   "execution_count": 7,
   "metadata": {},
   "outputs": [
    {
     "data": {
      "text/plain": [
       "['sammiches', 'chips']"
      ]
     },
     "execution_count": 7,
     "metadata": {},
     "output_type": "execute_result"
    }
   ],
   "source": [
    "# indexing lists\n",
    "items[0:2]"
   ]
  },
  {
   "cell_type": "code",
   "execution_count": 8,
   "metadata": {},
   "outputs": [],
   "source": [
    "# the sort() method will return nothing because it sorts IN PLACE\n",
    "items.sort()"
   ]
  },
  {
   "cell_type": "code",
   "execution_count": 9,
   "metadata": {},
   "outputs": [
    {
     "data": {
      "text/plain": [
       "['chips', 'ice cream', 'sammiches', 'soda', 'watermelon']"
      ]
     },
     "execution_count": 9,
     "metadata": {},
     "output_type": "execute_result"
    }
   ],
   "source": [
    "# the sorted() function accepts a list and creates a new list\n",
    "items = sorted(items)\n",
    "items"
   ]
  },
  {
   "cell_type": "code",
   "execution_count": 10,
   "metadata": {},
   "outputs": [
    {
     "data": {
      "text/plain": [
       "<list_reverseiterator at 0x107d7a1d0>"
      ]
     },
     "execution_count": 10,
     "metadata": {},
     "output_type": "execute_result"
    }
   ],
   "source": [
    "# reversed() is a 'lazy' function. it will not create the reversed-list object \n",
    "# until you require it. instead, it's generated an iterator. \n",
    "reversed(items)"
   ]
  },
  {
   "cell_type": "code",
   "execution_count": 11,
   "metadata": {},
   "outputs": [
    {
     "data": {
      "text/plain": [
       "['watermelon', 'soda', 'sammiches', 'ice cream', 'chips']"
      ]
     },
     "execution_count": 11,
     "metadata": {},
     "output_type": "execute_result"
    }
   ],
   "source": [
    "# use list() function to evaluate the reversed() iterator\n",
    "# by calling list(), you've said you require that reversed object now.\n",
    "# no more laziness\n",
    "list(reversed(items))"
   ]
  },
  {
   "cell_type": "code",
   "execution_count": null,
   "metadata": {},
   "outputs": [],
   "source": [
    "# strings are IMmutable. you cannot change an element of a string\n",
    "word = \"frigate\"\n",
    "word[0] = \"b\""
   ]
  },
  {
   "cell_type": "code",
   "execution_count": null,
   "metadata": {},
   "outputs": [],
   "source": [
    "# however, lists are MUTABLE, meaning you can change elements of a list\n",
    "items[0] = \"frigate\"\n",
    "items"
   ]
  },
  {
   "cell_type": "code",
   "execution_count": null,
   "metadata": {},
   "outputs": [],
   "source": [
    "# join the elements of a list with a comma-space string(!)\n",
    "', '.join(items)"
   ]
  },
  {
   "cell_type": "code",
   "execution_count": null,
   "metadata": {},
   "outputs": [],
   "source": [
    "age = 15\n",
    "if age < 0:\n",
    "    print(\"You are impossible.\")\n",
    "elif age < 18:\n",
    "    print(\"You are a minor.\")\n",
    "else:\n",
    "    print(\"You can vote.\")"
   ]
  },
  {
   "cell_type": "code",
   "execution_count": null,
   "metadata": {},
   "outputs": [],
   "source": [
    "items = [\"sammiches\", \"chips\", \"watermelon\"]\n",
    "if len(items) == 1:\n",
    "    print(\"You are bringing \" + (''.join(items)) + '.')\n",
    "elif len(items) <= 2:\n",
    "    print(\"You are bringing \" + (' and '.join(items)) + '.')\n",
    "else:\n",
    "    print(\"You are bringing \" + (', '.join(items[:-1]) + \" and \" + (items[-1]) + '.'))"
   ]
  }
 ],
 "metadata": {
  "kernelspec": {
   "display_name": "venv",
   "language": "python",
   "name": "python3"
  },
  "language_info": {
   "codemirror_mode": {
    "name": "ipython",
    "version": 3
   },
   "file_extension": ".py",
   "mimetype": "text/x-python",
   "name": "python",
   "nbconvert_exporter": "python",
   "pygments_lexer": "ipython3",
   "version": "3.11.2"
  }
 },
 "nbformat": 4,
 "nbformat_minor": 2
}
